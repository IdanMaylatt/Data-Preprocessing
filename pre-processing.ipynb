{
 "cells": [
  {
   "cell_type": "markdown",
   "metadata": {},
   "source": [
    "Hello, Idan!\n",
    "\n",
    "My name is Olga. I'm happy to reviewing your project today. \n",
    "\n",
    "The first time I see a mistake, I' will just point it out and let you find it and fix it yourself. In a real job, your boss will do the same, and I'm trying to prepare you to work as an Data Analyst. But if you can't handle this task yet, I will give you a more accurate hint at the next check.\n",
    "\n",
    "\n",
    "Below you will find my comments - ** please do not move, modify or delete them **.\n",
    "\n",
    "You can find my comments in green, yellow or red boxes like this:\n",
    "\n",
    "\n",
    "<div class=\"alert alert-block alert-success\">\n",
    "<b>Reviewer's comment</b> <a class=\"tocSkip\"></a>\n",
    "    \n",
    "Success. Everything is done succesfully.\n",
    "</div>\n",
    "\n",
    "\n",
    "<div class=\"alert alert-block alert-warning\">\n",
    "<b>Reviewer's comment</b> <a class=\"tocSkip\"></a>\n",
    "    \n",
    "Remarks. Some recommendations.\n",
    "</div>\n",
    "\n",
    "\n",
    "<div class=\"alert alert-block alert-danger\">\n",
    "    \n",
    "<b>Reviewer's comment</b> <a class=\"tocSkip\"></a>\n",
    "    \n",
    "    \n",
    "Needs fixing. The block requires some corrections. Work can't be accepted with the red comments.\n",
    "</div>\n",
    "\n",
    "\n",
    "You can answer me by using this: \n",
    "\n",
    "<div class=\"alert alert-block alert-info\">\n",
    "<b>Student answer.</b> <a class=\"tocSkip\"></a>\n",
    "</div>"
   ]
  },
  {
   "cell_type": "markdown",
   "metadata": {},
   "source": [
    "<div class=\"alert alert-block alert-success\">\n",
    "<b>Overallv reviewer's comment</b> <a class=\"tocSkip\"></a>\n",
    "    \n",
    "Idan, thank you for sending your project. You've done a really good job on it!\n",
    "\n",
    "While there's room for improvement, on the whole, your project is impressive good. You did a great job! \n",
    "\n",
    "<span class=\"text-danger\">There are few things that need to be corrected in your project. They're mostly minor issues that are easy to fix.</span>\n",
    "    \n",
    "Every issue with our code is a chance for us to learn something new.\n",
    "\n",
    "Good luck! :)\n",
    "    \n",
    "</div>\n",
    "\n",
    "<div class=\"alert alert-block alert-warning\">\n",
    "<b>For your future projects</b> <a class=\"tocSkip\"></a>\n",
    "    \n",
    "- Try to give tables meaningful names. Cars, clients, orders etc. df = DataFrame. Imagine, that you have 50 tables: df1, df2, df3, etc. it is hard to understand which table we need.\n",
    "    \n",
    "- It would be better to import all libraries in a first cell. It help us to set up of working environment.\n",
    "\n",
    "- Using display(table name.head()) make datasets more visually attractive.\n",
    "\n",
    "- We shoud use Kernel-Restart&Run All before sending project. It restart project and help to see errors.\n",
    "</div>\n",
    "\n",
    "\n",
    "<div class=\"alert alert-block alert-success\">\n",
    "<b>Overallv reviewer's comment. V.2.</b> <a class=\"tocSkip\"></a>\n",
    "    \n",
    "Hello Idan! I really appreciate the corrections you sent in! Thanks for taking the time to do so.\n",
    "    \n",
    "Excellent style!\n",
    "    \n",
    "Now your project is a true \"A\". Congratulations!\n",
    "    \n",
    "I'm glad to say that it has been accepted.\n",
    "    \n",
    "Keep up the good work, and good luck on the next sprint! :)     \n",
    "    \n",
    "</div>"
   ]
  },
  {
   "cell_type": "markdown",
   "metadata": {},
   "source": [
    "# Analyzing borrowers’ risk of defaulting\n",
    "\n",
    "Your project is to prepare a report for a bank’s loan division. You’ll need to find out if a customer’s marital status and number of children has an impact on whether they will default on a loan. The bank already has some data on customers’ credit worthiness.\n",
    "\n",
    "Your report will be considered when building a **credit scoring** of a potential customer. A ** credit scoring ** is used to evaluate the ability of a potential borrower to repay their loan."
   ]
  },
  {
   "cell_type": "markdown",
   "metadata": {},
   "source": [
    "<div class=\"alert alert-block alert-success\">\n",
    "<b>Reviewer's comment</b> <a class=\"tocSkip\"></a>\n",
    "    \n",
    "Great start with detailed introduction! :) </div>"
   ]
  },
  {
   "cell_type": "markdown",
   "metadata": {},
   "source": [
    "## Open the data file and have a look at the general information. "
   ]
  },
  {
   "cell_type": "markdown",
   "metadata": {},
   "source": [
    "### looking at the data"
   ]
  },
  {
   "cell_type": "code",
   "execution_count": 1,
   "metadata": {},
   "outputs": [],
   "source": [
    "import pandas as pd"
   ]
  },
  {
   "cell_type": "code",
   "execution_count": 2,
   "metadata": {
    "scrolled": true
   },
   "outputs": [
    {
     "name": "stdout",
     "output_type": "stream",
     "text": [
      "<class 'pandas.core.frame.DataFrame'>\n",
      "RangeIndex: 21525 entries, 0 to 21524\n",
      "Data columns (total 12 columns):\n",
      " #   Column            Non-Null Count  Dtype  \n",
      "---  ------            --------------  -----  \n",
      " 0   children          21525 non-null  int64  \n",
      " 1   days_employed     19351 non-null  float64\n",
      " 2   dob_years         21525 non-null  int64  \n",
      " 3   education         21525 non-null  object \n",
      " 4   education_id      21525 non-null  int64  \n",
      " 5   family_status     21525 non-null  object \n",
      " 6   family_status_id  21525 non-null  int64  \n",
      " 7   gender            21525 non-null  object \n",
      " 8   income_type       21525 non-null  object \n",
      " 9   debt              21525 non-null  int64  \n",
      " 10  total_income      19351 non-null  float64\n",
      " 11  purpose           21525 non-null  object \n",
      "dtypes: float64(2), int64(5), object(5)\n",
      "memory usage: 2.0+ MB\n"
     ]
    },
    {
     "data": {
      "text/plain": [
       "<bound method NDFrame.head of        children  days_employed  dob_years            education  education_id  \\\n",
       "0             1   -8437.673028         42    bachelor's degree             0   \n",
       "1             1   -4024.803754         36  secondary education             1   \n",
       "2             0   -5623.422610         33  Secondary Education             1   \n",
       "3             3   -4124.747207         32  secondary education             1   \n",
       "4             0  340266.072047         53  secondary education             1   \n",
       "...         ...            ...        ...                  ...           ...   \n",
       "21520         1   -4529.316663         43  secondary education             1   \n",
       "21521         0  343937.404131         67  secondary education             1   \n",
       "21522         1   -2113.346888         38  secondary education             1   \n",
       "21523         3   -3112.481705         38  secondary education             1   \n",
       "21524         2   -1984.507589         40  secondary education             1   \n",
       "\n",
       "           family_status  family_status_id gender income_type  debt  \\\n",
       "0                married                 0      F    employee     0   \n",
       "1                married                 0      F    employee     0   \n",
       "2                married                 0      M    employee     0   \n",
       "3                married                 0      M    employee     0   \n",
       "4      civil partnership                 1      F     retiree     0   \n",
       "...                  ...               ...    ...         ...   ...   \n",
       "21520  civil partnership                 1      F    business     0   \n",
       "21521            married                 0      F     retiree     0   \n",
       "21522  civil partnership                 1      M    employee     1   \n",
       "21523            married                 0      M    employee     1   \n",
       "21524            married                 0      F    employee     0   \n",
       "\n",
       "       total_income                  purpose  \n",
       "0         40620.102    purchase of the house  \n",
       "1         17932.802             car purchase  \n",
       "2         23341.752    purchase of the house  \n",
       "3         42820.568  supplementary education  \n",
       "4         25378.572        to have a wedding  \n",
       "...             ...                      ...  \n",
       "21520     35966.698     housing transactions  \n",
       "21521     24959.969        purchase of a car  \n",
       "21522     14347.610                 property  \n",
       "21523     39054.888        buying my own car  \n",
       "21524     13127.587             to buy a car  \n",
       "\n",
       "[21525 rows x 12 columns]>"
      ]
     },
     "execution_count": 2,
     "metadata": {},
     "output_type": "execute_result"
    }
   ],
   "source": [
    "try:\n",
    "    df = pd.read_csv('https://code.s3.yandex.net/datasets/credit_scoring_eng.csv')\n",
    "except:\n",
    "    df = pd.read_csv('/datasets/real_estate_data_us.csv') \n",
    "\n",
    "df.info()\n",
    "df.head"
   ]
  },
  {
   "cell_type": "markdown",
   "metadata": {},
   "source": [
    "<div class=\"alert alert-block alert-success\">\n",
    "<b>Reviewer's comment</b> <a class=\"tocSkip\"></a>\n",
    "    \n",
    "Well done! We have basic information about our dataset.\n",
    "</div>\n",
    "\n",
    "<div class=\"alert alert-block alert-warning\">\n",
    "<b>Reviewer's comment</b> <a class=\"tocSkip\"></a>\n",
    "    \n",
    "It would be better to import libraries in a first cell and read datasets in a second cell. Sometimes we need to add a library. It would be easy to restart one cell that whole project. :) </div>"
   ]
  },
  {
   "cell_type": "markdown",
   "metadata": {},
   "source": [
    "### looking into days_employed column"
   ]
  },
  {
   "cell_type": "markdown",
   "metadata": {},
   "source": [
    "<font size='4'><center>days_employed seems weird. in addition, days_employed and total_income have the same number of missing values</center></font>\n",
    "<font size = '4'><center>lets get the min/max and mean/median values for days_employed to get a grip on whats going on over there</center></font>"
   ]
  },
  {
   "cell_type": "code",
   "execution_count": 3,
   "metadata": {},
   "outputs": [
    {
     "data": {
      "text/plain": [
       "(-18388.949900568383, 401755.40047533)"
      ]
     },
     "execution_count": 3,
     "metadata": {},
     "output_type": "execute_result"
    }
   ],
   "source": [
    "max_days_employed = df.loc[df['days_employed'].idxmax()]['days_employed']\n",
    "min_days_employed = df.loc[df['days_employed'].idxmin()]['days_employed']\n",
    "span_days_employed = min_days_employed,max_days_employed                           \n",
    "span_days_employed"
   ]
  },
  {
   "cell_type": "markdown",
   "metadata": {},
   "source": [
    "<font size='4'><center>we see we have a big span of values and also that we have some negative numbers. lets check the proportion of negative numbers:</center></font>"
   ]
  },
  {
   "cell_type": "code",
   "execution_count": 4,
   "metadata": {},
   "outputs": [
    {
     "data": {
      "text/plain": [
       "'73.9% of days_employed values are negative'"
      ]
     },
     "execution_count": 4,
     "metadata": {},
     "output_type": "execute_result"
    }
   ],
   "source": [
    "negative_employ_ratio = df.loc[df['days_employed'] < 0]['days_employed'].count()/len(df)\n",
    "f'{negative_employ_ratio:.1%} of days_employed values are negative'"
   ]
  },
  {
   "cell_type": "markdown",
   "metadata": {},
   "source": [
    "<font size='4'><center>the data seems weird. lets take its absolute value and check the span again</center></font>"
   ]
  },
  {
   "cell_type": "code",
   "execution_count": 5,
   "metadata": {},
   "outputs": [
    {
     "data": {
      "text/plain": [
       "'updated extreme days_employed values: (24.14163324048118, 401755.40047533)'"
      ]
     },
     "execution_count": 5,
     "metadata": {},
     "output_type": "execute_result"
    }
   ],
   "source": [
    "df['days_employed'] = df['days_employed'].abs()\n",
    "max_days_employed_abs = df.loc[df['days_employed'].idxmax()]['days_employed']\n",
    "min_days_employed_abs = df.loc[df['days_employed'].idxmin()]['days_employed']\n",
    "span_days_employed_updated = min_days_employed_abs,max_days_employed_abs\n",
    "f'updated extreme days_employed values: {span_days_employed_updated}'"
   ]
  },
  {
   "cell_type": "code",
   "execution_count": 6,
   "metadata": {},
   "outputs": [
    {
     "data": {
      "text/plain": [
       "'ratio of days_employed extreme values: 16641.59986498587'"
      ]
     },
     "execution_count": 6,
     "metadata": {},
     "output_type": "execute_result"
    }
   ],
   "source": [
    "days_employed_abs_ratio = max_days_employed_abs / min_days_employed_abs\n",
    "f'ratio of days_employed extreme values: {days_employed_abs_ratio}'"
   ]
  },
  {
   "cell_type": "markdown",
   "metadata": {},
   "source": [
    "<font size = '4'><center>the span and ratio are so big, so we'll suggest ignoring the data: its not a problem of measuring seconds/hours/years\n",
    "instead of days</center></font>"
   ]
  },
  {
   "cell_type": "markdown",
   "metadata": {},
   "source": [
    "<font size = '4'><center>besides, it seems a lot of the values contain a lot of digits after the decimal dot, and its another reason to doubt the data. in the context of days_employed, its hard to think about any property connected which will have so many digits after the decimal dot</center></font>"
   ]
  },
  {
   "cell_type": "code",
   "execution_count": 7,
   "metadata": {
    "scrolled": true
   },
   "outputs": [
    {
     "name": "stdout",
     "output_type": "stream",
     "text": [
      "mean days: 66914.72890682195\n",
      "median days: 2194.220566878695\n"
     ]
    }
   ],
   "source": [
    "mean_days = df['days_employed'].mean()\n",
    "median_days = df['days_employed'].median()\n",
    "print(f'mean days: {mean_days}')\n",
    "print(f'median days: {median_days}')"
   ]
  },
  {
   "cell_type": "markdown",
   "metadata": {},
   "source": [
    "<font size = '4'><center>the mean is much greater than the median, which suggests a\n",
    "relatively small amount of values pushes the mean upwards.\n",
    "lets check the bigger values of days_employed - if theres a lot of them close to the max value, and the next big values will be around the mean, maybe we'll have a reason to delete this cluster of big \n",
    "values next to the mamx value and keep the column after all\n",
    "    </center></font>"
   ]
  },
  {
   "cell_type": "code",
   "execution_count": 8,
   "metadata": {},
   "outputs": [
    {
     "name": "stdout",
     "output_type": "stream",
     "text": [
      "0.1473170731707317\n",
      "0.7516840882694541\n",
      "0.10099883855981417\n"
     ]
    }
   ],
   "source": [
    "print(df.loc[df['days_employed'] > 5*mean_days]['days_employed'].count()/len(df))\n",
    "print(df.loc[df['days_employed'] < 5*mean_days]['days_employed'].count()/len(df))\n",
    "print(df['days_employed'].isna().sum()/len(df))"
   ]
  },
  {
   "cell_type": "markdown",
   "metadata": {},
   "source": [
    "<font size='4'><center>\n",
    "15% of the values are greater than \n",
    "5 times the mean. the max_value is 6*mean_days so no cluster of points we can delete to save the column.</center></font>"
   ]
  },
  {
   "cell_type": "markdown",
   "metadata": {},
   "source": [
    "### extracting relevant info from days_employed before deleting it"
   ]
  },
  {
   "cell_type": "markdown",
   "metadata": {},
   "source": [
    "<font size='4'><center>before deleting it, lets check the connection between 'days_employed' missing values to the missing values of the 'total_income'. after all, they have the same number of missing values:</center></font>"
   ]
  },
  {
   "cell_type": "markdown",
   "metadata": {},
   "source": [
    "print(df.loc[df['total_income'].isna()]['days_employed'].isna().sum())"
   ]
  },
  {
   "cell_type": "markdown",
   "metadata": {},
   "source": [
    "<font size='4'><center>we see an exact correlation between having missing 'total_income' value to having missing 'days_employed' value. we'll presume the missing values at those rows originate from the loan seeker lack of job. maybe theyre kids that\n",
    "hadnt start work yet, but somehow have a bank account and they want a loan for a summer trip. and maybe its people who are currently unemployed, so they\n",
    "write their previous 'income_type' but leave the rest blank. as for businesses and civil servants - its strange they dont have a total_income\n",
    "but thats the data. maybe theyre ashame about those details and prefer not to disclose them if not necessary</center></font>"
   ]
  },
  {
   "cell_type": "markdown",
   "metadata": {},
   "source": [
    "<font size='4'><center>the data in 'days_employed' is irrelevant anyway. if we'll fill those missing values with 0 it wouldnt help:\n",
    "it will give new information but the data we want is probably their overall aggregated work time in the last few\n",
    "years or more.</center></font>\n",
    "\n",
    "<font size ='5'><center>in conclusion, well drop the 'days employed' column. we could answer the relevant questions without it</center></font>"
   ]
  },
  {
   "cell_type": "code",
   "execution_count": 9,
   "metadata": {},
   "outputs": [],
   "source": [
    "df.drop('days_employed', axis=1, inplace=True)"
   ]
  },
  {
   "cell_type": "markdown",
   "metadata": {},
   "source": [
    "<div class=\"alert alert-block alert-success\">\n",
    "<b>Reviewer's comment</b> <a class=\"tocSkip\"></a>\n",
    "    \n",
    "Very good. We do not need this column in our results, so we can do anything. :) </div>\n"
   ]
  },
  {
   "cell_type": "markdown",
   "metadata": {},
   "source": [
    "### fixing the education column"
   ]
  },
  {
   "cell_type": "markdown",
   "metadata": {},
   "source": [
    "<font size='4'><center>lets fix the 'education' column as well. see first the variety of education's subcategories:</center></font>"
   ]
  },
  {
   "cell_type": "code",
   "execution_count": 10,
   "metadata": {
    "scrolled": false
   },
   "outputs": [
    {
     "name": "stdout",
     "output_type": "stream",
     "text": [
      "[\"bachelor's degree\" 'secondary education' 'Secondary Education'\n",
      " 'SECONDARY EDUCATION' \"BACHELOR'S DEGREE\" 'some college'\n",
      " 'primary education' \"Bachelor's Degree\" 'SOME COLLEGE' 'Some College'\n",
      " 'PRIMARY EDUCATION' 'Primary Education' 'Graduate Degree'\n",
      " 'GRADUATE DEGREE' 'graduate degree']\n"
     ]
    }
   ],
   "source": [
    "print(df['education'].unique())"
   ]
  },
  {
   "cell_type": "markdown",
   "metadata": {},
   "source": [
    "<font size='4'><center>lets lowercase everything and change 'some college' to 'college'</center></font>"
   ]
  },
  {
   "cell_type": "code",
   "execution_count": 11,
   "metadata": {
    "scrolled": true
   },
   "outputs": [
    {
     "data": {
      "text/plain": [
       "secondary education    15233\n",
       "bachelor's degree       5260\n",
       "college                  744\n",
       "primary education        282\n",
       "graduate degree            6\n",
       "Name: education, dtype: int64"
      ]
     },
     "execution_count": 11,
     "metadata": {},
     "output_type": "execute_result"
    }
   ],
   "source": [
    "df['education'] = df['education'].str.lower()\n",
    "df['education'] = df['education'].replace('some college', 'college')\n",
    "df.education.value_counts()"
   ]
  },
  {
   "cell_type": "markdown",
   "metadata": {},
   "source": [
    "<div class=\"alert alert-block alert-success\">\n",
    "<b>Reviewer's comment</b> <a class=\"tocSkip\"></a>\n",
    "    \n",
    "Well done! :) \n",
    "</div>\n",
    "\n"
   ]
  },
  {
   "cell_type": "markdown",
   "metadata": {},
   "source": [
    "<font size='4'><center>now education's fine</center></font>"
   ]
  },
  {
   "cell_type": "markdown",
   "metadata": {},
   "source": [
    "### looking into the gender column"
   ]
  },
  {
   "cell_type": "code",
   "execution_count": 12,
   "metadata": {},
   "outputs": [
    {
     "name": "stdout",
     "output_type": "stream",
     "text": [
      "F      14236\n",
      "M       7288\n",
      "XNA        1\n",
      "Name: gender, dtype: int64\n"
     ]
    }
   ],
   "source": [
    "print(df.gender.value_counts())"
   ]
  },
  {
   "cell_type": "markdown",
   "metadata": {},
   "source": [
    "<font size = '4'><center>theres one weird instance of a third gender. lets check this row:</center></font>"
   ]
  },
  {
   "cell_type": "code",
   "execution_count": 13,
   "metadata": {
    "scrolled": true
   },
   "outputs": [
    {
     "name": "stdout",
     "output_type": "stream",
     "text": [
      "       children  dob_years education  education_id      family_status  \\\n",
      "10701         0         24   college             2  civil partnership   \n",
      "\n",
      "       family_status_id gender income_type  debt  total_income  \\\n",
      "10701                 1    XNA    business     0     32624.825   \n",
      "\n",
      "               purpose  \n",
      "10701  buy real estate  \n"
     ]
    }
   ],
   "source": [
    "print(df.loc[df['gender'] == 'XNA'])"
   ]
  },
  {
   "cell_type": "markdown",
   "metadata": {},
   "source": [
    "<font size = '4'><center>the row seems legit, as XNA might be a technical value that some function generates on weird cases, like this.. \n",
    "<div class=\"alert alert-block alert-info\">\n",
    "<b>But we can't be sure. its only 1 row out of 20000, so in this case nothing will happen if we'll delete it:</b> <a class=\"tocSkip\"></a>\n",
    "</div></center></font>"
   ]
  },
  {
   "cell_type": "code",
   "execution_count": 14,
   "metadata": {},
   "outputs": [
    {
     "name": "stdout",
     "output_type": "stream",
     "text": [
      "F    14236\n",
      "M     7288\n",
      "Name: gender, dtype: int64\n"
     ]
    }
   ],
   "source": [
    "df.drop(df.index[10701], inplace=True)\n",
    "\n",
    "print(df.gender.value_counts())"
   ]
  },
  {
   "cell_type": "markdown",
   "metadata": {},
   "source": [
    "### Conclusion"
   ]
  },
  {
   "cell_type": "markdown",
   "metadata": {},
   "source": [
    "<font size='4'><center>we've decided to drop the days_employed column due to unreasonable data</center></font>\n",
    "    \n",
    "<div class=\"alert alert-block alert-info\">\n",
    "<b>In addition, we deleted 1 row due to suspicious data (genter of type XNA).</b> <a class=\"tocSkip\"></a>\n",
    "</div>\n",
    "\n",
    "<font size='4'><center>besides that, we've gone through all the columns manually and performed column.value_counts() on each.\n",
    "no further action needs to be taken. only that it seems there is an option to mention youre unemployed, which\n",
    "makes our explanation of missing 'total_income' from before a bit harder to convince by. but we'll stick with it.\n",
    "people might feel discomfort to say theyre unemployed, and might not see the option when filling the form.\n",
    "</center></font>"
   ]
  },
  {
   "cell_type": "markdown",
   "metadata": {},
   "source": [
    "<div class=\"alert alert-block alert-danger\">\n",
    "<b>Reviewer's comment</b> <a class=\"tocSkip\"></a>\n",
    "    \n",
    "~Unfortunately, XNA is an error in this column.It is only 1 row and we can delete it. :)~</div>\n",
    "\n",
    "<div class=\"alert alert-block alert-success\">\n",
    "<b>Reviewer's comment. V.2.</b> <a class=\"tocSkip\"></a>\n",
    "    \n",
    "Good decision! </div>"
   ]
  },
  {
   "cell_type": "markdown",
   "metadata": {},
   "source": [
    "## Data preprocessing"
   ]
  },
  {
   "cell_type": "markdown",
   "metadata": {},
   "source": [
    "### Processing missing values"
   ]
  },
  {
   "cell_type": "markdown",
   "metadata": {},
   "source": [
    "<font size='4'><center>now lets fill 'total_income' missing values. they came together with missing 'days_employed' values so the leading theory is that its mostly people who are currently unemployed. therefore, at present, they dont have any total_income at all. otherwise, we can argue its not possible for a business or a civil servant not to have\n",
    "any income at all. in that case, we'll take the mean of 'total_income' for business and civil servants seperatly.\n",
    "i.e - df.groupby('income_type')['total_income'].mean().\n",
    "but, as said, we'll go with filling them with 0's:</center></font>\n",
    "\n",
    "<div class=\"alert alert-block alert-info\">\n",
    "<b>OH WAIT!!! CHANGE OF PLAN!!\n",
    "we'll fill the missing values with the medians for the appropriate income_type. turns out its not so simple as mentioned in the paragraph above. after trying a LOT of code i discovered this transform method code in the project's thread at slack..\n",
    "</b> <a class=\"tocSkip\"></a>\n",
    "</div>"
   ]
  },
  {
   "cell_type": "code",
   "execution_count": 15,
   "metadata": {},
   "outputs": [],
   "source": [
    "df['total_income'] = df.groupby('income_type')['total_income'].transform(lambda x: x.fillna(x.median()))"
   ]
  },
  {
   "cell_type": "markdown",
   "metadata": {},
   "source": [
    "<font size='4'><center>using the method fillna() as this is the method we learned for tackling that task</center></font>\n",
    "<font size='4'><center>lets check the filling's proper:</center></font>"
   ]
  },
  {
   "cell_type": "markdown",
   "metadata": {},
   "source": [
    "<div class=\"alert alert-block alert-danger\">\n",
    "<b>Reviewer's comment</b> <a class=\"tocSkip\"></a>\n",
    "\n",
    "~Look, we have different proffecions here. And all of them have the different median income.~\n",
    "    \n",
    "~It would be more real to filling missing numbers by grouping on income_type and use median for different income. :)~ \n",
    "</div>"
   ]
  },
  {
   "cell_type": "markdown",
   "metadata": {},
   "source": [
    "<div class=\"alert alert-block alert-success\">\n",
    "<b>Reviewer's comment. V.2.</b> <a class=\"tocSkip\"></a>\n",
    "    \n",
    "Excellent! </div>"
   ]
  },
  {
   "cell_type": "code",
   "execution_count": 16,
   "metadata": {
    "scrolled": false
   },
   "outputs": [
    {
     "name": "stdout",
     "output_type": "stream",
     "text": [
      "0\n"
     ]
    }
   ],
   "source": [
    "print(df.loc[df['total_income'].isna()]['income_type'].count())"
   ]
  },
  {
   "cell_type": "markdown",
   "metadata": {},
   "source": [
    "<font size='5'><center>lets check for hiding 'None's:</center></font>"
   ]
  },
  {
   "cell_type": "code",
   "execution_count": 17,
   "metadata": {},
   "outputs": [
    {
     "data": {
      "text/plain": [
       "[0, 0, 0, 0, 0, 0, 0, 0, 0, 0, 0]"
      ]
     },
     "execution_count": 17,
     "metadata": {},
     "output_type": "execute_result"
    }
   ],
   "source": [
    "columns = df.columns\n",
    "lst = []\n",
    "for column in columns:\n",
    "    tmp = df.loc[df[column] == 'None',column].count()\n",
    "    lst.append(tmp)\n",
    "lst"
   ]
  },
  {
   "cell_type": "markdown",
   "metadata": {},
   "source": [
    "<font size='4'><center>we got a tuple of 11 0's, meaning theres no 'None' hiding in the data</center></font>"
   ]
  },
  {
   "cell_type": "markdown",
   "metadata": {},
   "source": [
    "### Conclusion"
   ]
  },
  {
   "cell_type": "markdown",
   "metadata": {},
   "source": [
    "<font size ='4'><center>we've conclude the data is free of missing values, including 'None' strings</center></font>"
   ]
  },
  {
   "cell_type": "markdown",
   "metadata": {},
   "source": [
    "## Data type replacement"
   ]
  },
  {
   "cell_type": "markdown",
   "metadata": {},
   "source": [
    "### changing 'total_income' to ints\n",
    "<font size='4'><center>as there is no need for a float precision. all the other ints are 64 so we'll\n",
    "make it 64 also</center></font>"
   ]
  },
  {
   "cell_type": "code",
   "execution_count": 18,
   "metadata": {},
   "outputs": [
    {
     "name": "stdout",
     "output_type": "stream",
     "text": [
      "<class 'pandas.core.frame.DataFrame'>\n",
      "Int64Index: 21524 entries, 0 to 21524\n",
      "Data columns (total 11 columns):\n",
      " #   Column            Non-Null Count  Dtype \n",
      "---  ------            --------------  ----- \n",
      " 0   children          21524 non-null  int64 \n",
      " 1   dob_years         21524 non-null  int64 \n",
      " 2   education         21524 non-null  object\n",
      " 3   education_id      21524 non-null  int64 \n",
      " 4   family_status     21524 non-null  object\n",
      " 5   family_status_id  21524 non-null  int64 \n",
      " 6   gender            21524 non-null  object\n",
      " 7   income_type       21524 non-null  object\n",
      " 8   debt              21524 non-null  int64 \n",
      " 9   total_income      21524 non-null  int64 \n",
      " 10  purpose           21524 non-null  object\n",
      "dtypes: int64(6), object(5)\n",
      "memory usage: 2.0+ MB\n"
     ]
    }
   ],
   "source": [
    "df.loc[:,'total_income'] = df.loc[:,'total_income'].astype('int64')\n",
    "df.info()"
   ]
  },
  {
   "cell_type": "markdown",
   "metadata": {},
   "source": [
    "<font size='4'><center>using the astype() (as this is the method we learned for tackling that task) we got just 2 data\n",
    "types in our table - object and int64</center></font>\n",
    "<div class=\"alert alert-block alert-info\">\n",
    "<b>by calling the info method we see the table consists of 2 data types - object and int64</b> <a class=\"tocSkip\"></a>\n",
    "</div>"
   ]
  },
  {
   "cell_type": "markdown",
   "metadata": {},
   "source": [
    "<div class=\"alert alert-block alert-success\">\n",
    "<b>Reviewer's comment</b> <a class=\"tocSkip\"></a>\n",
    "\n",
    "Very good!\n",
    "</div>\n",
    "\n",
    "<div class=\"alert alert-block alert-warning\">\n",
    "<b>Reviewer's comment</b> <a class=\"tocSkip\"></a>\n",
    "\n",
    "Also we can check all data types. :) \n",
    "</div>"
   ]
  },
  {
   "cell_type": "markdown",
   "metadata": {},
   "source": [
    "### Conclusion"
   ]
  },
  {
   "cell_type": "markdown",
   "metadata": {},
   "source": [
    "### Processing duplicates"
   ]
  },
  {
   "cell_type": "markdown",
   "metadata": {},
   "source": [
    "<font size ='5'><center>lets check for duplicated rows:</center></font>"
   ]
  },
  {
   "cell_type": "code",
   "execution_count": 19,
   "metadata": {
    "scrolled": true
   },
   "outputs": [
    {
     "data": {
      "text/plain": [
       "71"
      ]
     },
     "execution_count": 19,
     "metadata": {},
     "output_type": "execute_result"
    }
   ],
   "source": [
    "df.duplicated().sum()"
   ]
  },
  {
   "cell_type": "markdown",
   "metadata": {},
   "source": [
    "<font size = '4'><center>we found 71 of them, so lets drop them</center></font>"
   ]
  },
  {
   "cell_type": "code",
   "execution_count": 20,
   "metadata": {
    "scrolled": true
   },
   "outputs": [
    {
     "name": "stdout",
     "output_type": "stream",
     "text": [
      "<class 'pandas.core.frame.DataFrame'>\n",
      "RangeIndex: 21453 entries, 0 to 21452\n",
      "Data columns (total 11 columns):\n",
      " #   Column            Non-Null Count  Dtype \n",
      "---  ------            --------------  ----- \n",
      " 0   children          21453 non-null  int64 \n",
      " 1   dob_years         21453 non-null  int64 \n",
      " 2   education         21453 non-null  object\n",
      " 3   education_id      21453 non-null  int64 \n",
      " 4   family_status     21453 non-null  object\n",
      " 5   family_status_id  21453 non-null  int64 \n",
      " 6   gender            21453 non-null  object\n",
      " 7   income_type       21453 non-null  object\n",
      " 8   debt              21453 non-null  int64 \n",
      " 9   total_income      21453 non-null  int64 \n",
      " 10  purpose           21453 non-null  object\n",
      "dtypes: int64(6), object(5)\n",
      "memory usage: 1.8+ MB\n"
     ]
    }
   ],
   "source": [
    "df = df.drop_duplicates().reset_index(drop=True)\n",
    "df.info()"
   ]
  },
  {
   "cell_type": "markdown",
   "metadata": {},
   "source": [
    "<font size = '4'><center>21524 - 21453 = 71</center></font>\n",
    "<font size = '4'><center>so duplicates droped verified!\n",
    "ive used the methods above for handling duplicates as this is the methods we learned for tackling that task\n",
    "the duplicated data might have been present due to loan seekers applying twice, perhaps after closing the \n",
    "confirmation for sending their details, and then filling the form again to make sure their apply reach its destiny.\n",
    "54 duplicates in our data is one duplicate for every 400 applies for loan. so our explanation above or some other\n",
    "random reason are completely possible</center></font>"
   ]
  },
  {
   "cell_type": "markdown",
   "metadata": {},
   "source": [
    "### Conclusion"
   ]
  },
  {
   "cell_type": "markdown",
   "metadata": {},
   "source": [
    "<font size='4'><center>we found and removed all the duplicates in the data</center></font>"
   ]
  },
  {
   "cell_type": "markdown",
   "metadata": {},
   "source": [
    "<div class=\"alert alert-block alert-success\">\n",
    "<b>Reviewer's comment</b> <a class=\"tocSkip\"></a>\n",
    "\n",
    "Great, duplicates are error and we do not need them. :) \n",
    "</div>"
   ]
  },
  {
   "cell_type": "markdown",
   "metadata": {},
   "source": [
    "### Categorizing Data"
   ]
  },
  {
   "cell_type": "markdown",
   "metadata": {},
   "source": [
    "#### categorizing the purpose column\n"
   ]
  },
  {
   "cell_type": "code",
   "execution_count": 21,
   "metadata": {
    "scrolled": true
   },
   "outputs": [
    {
     "name": "stdout",
     "output_type": "stream",
     "text": [
      "Series([], Name: purpose, dtype: int64)\n"
     ]
    }
   ],
   "source": [
    "def purpose_group(purpose): #function for categorizing the purpose column\n",
    "    if 'real estate' in purpose or 'house' in purpose or 'housing' in purpose or 'property' in purpose:\n",
    "        return 'real estate'\n",
    "    if 'education' in purpose or 'university' in purpose or 'educated' in purpose:\n",
    "        return 'education'\n",
    "    if 'wedding' in purpose:\n",
    "        return 'wedding'\n",
    "    if 'car' in purpose:\n",
    "        return 'car'\n",
    "    else:\n",
    "        return 'unknown'\n",
    "    \n",
    "df['purpose_type'] = df['purpose'].apply(purpose_group)\n",
    "df['purpose_type'].value_counts()\n",
    "\n",
    "#we see a lot of 'unknown's. lets look at their respective original purpose:\n",
    "\n",
    "print(df.loc[df['purpose_type'] == 'unknown']['purpose'].value_counts())\n",
    "\n",
    "#by tweeking the purpose_group function and rerunning the line above we categorise all the purposes until\n",
    "#nothing gets printed. cant think of a better way. adding 'property' and 'house' to 'real estate' category\n",
    "#needs to be done manually. nltk can be used specifically to categorise 'educated' as 'education', in\n",
    "#this case its not worth the bother, especially if your not sharp in lemmatising and all yet."
   ]
  },
  {
   "cell_type": "markdown",
   "metadata": {},
   "source": [
    "<div class=\"alert alert-block alert-danger\">\n",
    "<b>Reviewer's comment</b> <a class=\"tocSkip\"></a>\n",
    "\n",
    "~Why housing and real estate are different purposes?~\n",
    " \n",
    "</div>"
   ]
  },
  {
   "cell_type": "markdown",
   "metadata": {},
   "source": [
    "<div class=\"alert alert-block alert-info\">\n",
    "<b>now housing counts as real-estate</b> <a class=\"tocSkip\"></a>\n",
    "</div>\n",
    "\n",
    "<div class=\"alert alert-block alert-warning\">\n",
    "<b>Reviewer's comment. V.2.</b> <a class=\"tocSkip\"></a>\n",
    "    \n",
    "We can say that housin and real estate is different, but we need an explanation. For explane:\n",
    "\n",
    "- under construction or old building\n",
    "- commercial or noncommercial place\n",
    "- repair or byu.\n",
    "\n",
    "We have many variantы.Also, we can say that both are real estate. :) </div>"
   ]
  },
  {
   "cell_type": "markdown",
   "metadata": {},
   "source": [
    "#### categorizing the 'children' column"
   ]
  },
  {
   "cell_type": "code",
   "execution_count": 22,
   "metadata": {},
   "outputs": [
    {
     "name": "stdout",
     "output_type": "stream",
     "text": [
      " 0     14090\n",
      " 1      4808\n",
      " 2      2052\n",
      " 3       330\n",
      " 20       76\n",
      "-1        47\n",
      " 4        41\n",
      " 5         9\n",
      "Name: children, dtype: int64\n"
     ]
    }
   ],
   "source": [
    "print(df.children.value_counts())"
   ]
  },
  {
   "cell_type": "markdown",
   "metadata": {},
   "source": [
    "<div font size='5'><center>we get strange children values: 20 and -1. because we dont get other strange values, but just those two, we'll\n",
    "figure its something connected specifically to those numbers.\n",
    "-1 might mean negation, meaning no children. therefore we'll replace it with 0.\n",
    "right after typing a number using the keyboard's right side, you might hit the key below it and make it get\n",
    "typed.\n",
    "if you typed 1 or 3, youll notice something strange (right arrow or .) gets typed, that might generate an error\n",
    "when submitting a loan request.\n",
    "but, if you typed 2 youll end up with 20 and the loan request form could be sent with no problem. so we'll replace\n",
    "20 with 2, and -1 with 0</center></div>"
   ]
  },
  {
   "cell_type": "code",
   "execution_count": 23,
   "metadata": {},
   "outputs": [
    {
     "name": "stdout",
     "output_type": "stream",
     "text": [
      "0    14090\n",
      "1     4855\n",
      "2     2128\n",
      "3      330\n",
      "4       41\n",
      "5        9\n",
      "Name: children, dtype: int64\n"
     ]
    }
   ],
   "source": [
    "df['children'] = df['children'].replace({-1: 1, 20: 2})\n",
    "print(df.children.value_counts())"
   ]
  },
  {
   "cell_type": "markdown",
   "metadata": {},
   "source": [
    "<font size = '4'><center>children column done!</center></font>"
   ]
  },
  {
   "cell_type": "markdown",
   "metadata": {},
   "source": [
    "<div class=\"alert alert-block alert-warning\">\n",
    "<b>Reviewer's comment</b> <a class=\"tocSkip\"></a>\n",
    "\n",
    "Also we can say: -1 = 1. :) \n",
    " \n",
    "</div>"
   ]
  },
  {
   "cell_type": "markdown",
   "metadata": {},
   "source": [
    "<div class=\"alert alert-block alert-info\">\n",
    "<b>now -1 childs = 1 child:)</b> <a class=\"tocSkip\"></a>\n",
    "</div>\n",
    "\n",
    "<div class=\"alert alert-block alert-success\">\n",
    "<b>Reviewer's comment. V.2.</b> <a class=\"tocSkip\"></a>\n",
    "    \n",
    "OK. :) </div>"
   ]
  },
  {
   "cell_type": "markdown",
   "metadata": {},
   "source": [
    "#### categorizing the 'total_income' column"
   ]
  },
  {
   "cell_type": "code",
   "execution_count": 24,
   "metadata": {},
   "outputs": [
    {
     "name": "stdout",
     "output_type": "stream",
     "text": [
      "362496 3306 26450.314920990073 22815.0\n"
     ]
    }
   ],
   "source": [
    "max_income = df.loc[df['total_income'].idxmax()]['total_income']\n",
    "min_income = df.loc[df['total_income'].idxmin()]['total_income']\n",
    "mean_income = df['total_income'].mean()\n",
    "median_income  = df.total_income.median()\n",
    "print(max_income,min_income,mean_income,median_income)"
   ]
  },
  {
   "cell_type": "markdown",
   "metadata": {},
   "source": [
    "<font size = '4'><center>from those values we'll split the total_income data to 4 categories: 2 for the half that earns below the median,\n",
    "and another 2 categories for the other half who earns more than the median</center></font>"
   ]
  },
  {
   "cell_type": "code",
   "execution_count": 25,
   "metadata": {},
   "outputs": [],
   "source": [
    "def income_categorizer(income):\n",
    "    if income < 11400:\n",
    "        return 1\n",
    "    if income < 22800:\n",
    "        return 2\n",
    "    if income < 200000:\n",
    "        return 3\n",
    "    else:\n",
    "        return 4\n",
    "df['total_income_id'] = df['total_income'].apply(income_categorizer)"
   ]
  },
  {
   "cell_type": "markdown",
   "metadata": {},
   "source": [
    "### Conclusion"
   ]
  },
  {
   "cell_type": "markdown",
   "metadata": {},
   "source": [
    "<div class=\"alert alert-block alert-info\">\n",
    "<b><font size = '4'><center>the data is categorised. we've categorized purpose into 4 categories, fixed problematic values in the children column, and categorised total_income into 4 categories - 2 for under the median and 2 for above the median</center></font></b> <a class=\"tocSkip\"></a>\n",
    "</div>"
   ]
  },
  {
   "cell_type": "markdown",
   "metadata": {},
   "source": [
    "<div class=\"alert alert-block alert-warning\">\n",
    "<b>Reviewer's comment</b> <a class=\"tocSkip\"></a>\n",
    "\n",
    "It would be informative to add words: high, low, median, etc. :) \n",
    " \n",
    "</div>"
   ]
  },
  {
   "cell_type": "markdown",
   "metadata": {},
   "source": [
    "<div class=\"alert alert-block alert-success\">\n",
    "<b>Reviewer's comment. V.2.</b> <a class=\"tocSkip\"></a>\n",
    "    \n",
    "Good idea! :) </div>"
   ]
  },
  {
   "cell_type": "markdown",
   "metadata": {},
   "source": [
    "## Answer these questions"
   ]
  },
  {
   "cell_type": "markdown",
   "metadata": {},
   "source": [
    "- Is there a relation between having kids and repaying a loan on time?"
   ]
  },
  {
   "cell_type": "code",
   "execution_count": 26,
   "metadata": {},
   "outputs": [
    {
     "name": "stdout",
     "output_type": "stream",
     "text": [
      "          debt            ratio\n",
      "           sum  count          \n",
      "children                       \n",
      "4            4     41  0.097561\n",
      "2          202   2128  0.094925\n",
      "1          445   4855  0.091658\n",
      "3           27    330  0.081818\n",
      "0         1063  14090  0.075444\n",
      "5            0      9  0.000000\n"
     ]
    }
   ],
   "source": [
    "debt_by_child = df.groupby('children').agg({'debt': ['sum', 'count']})\n",
    "debt_by_child['ratio'] = debt_by_child['debt']['sum'] / debt_by_child['debt']['count']\n",
    "debt_by_child.sort_values(by='ratio', ascending=False, inplace=True)\n",
    "print(debt_by_child)"
   ]
  },
  {
   "cell_type": "markdown",
   "metadata": {},
   "source": [
    "### Conclusion"
   ]
  },
  {
   "cell_type": "markdown",
   "metadata": {},
   "source": [
    "<font size = '4'><center>we see that people with 5 children dont go in debt. theres not a lot of them, but still, until we here otherwise,\n",
    "we count on them when giving loans. maybe at their stage their kids help with the home chores more than \"normal\" kids,\n",
    "so they can work more.\n",
    "people with no children or 3 children have around 8% debt rate, and the others have roughly 20% chance more to get in debt.\n",
    "</center></font>"
   ]
  },
  {
   "cell_type": "markdown",
   "metadata": {},
   "source": [
    "<div class=\"alert alert-block alert-success\">\n",
    "<b>Reviewer's comment</b> <a class=\"tocSkip\"></a>\n",
    "    \n",
    "Intresting differece! </div>"
   ]
  },
  {
   "cell_type": "markdown",
   "metadata": {},
   "source": [
    "- Is there a relation between marital status and repaying a loan on time?"
   ]
  },
  {
   "cell_type": "code",
   "execution_count": 27,
   "metadata": {},
   "outputs": [
    {
     "name": "stdout",
     "output_type": "stream",
     "text": [
      "                  debt            ratio\n",
      "                   sum  count          \n",
      "family_status                          \n",
      "unmarried          274   2810  0.097509\n",
      "civil partnership  388   4150  0.093494\n",
      "married            931  12339  0.075452\n",
      "divorced            85   1195  0.071130\n",
      "widow / widower     63    959  0.065693\n"
     ]
    }
   ],
   "source": [
    "debt_by_family = df.groupby('family_status').agg({'debt': ['sum', 'count']})\n",
    "debt_by_family['ratio'] = debt_by_family['debt']['sum'] / debt_by_family['debt']['count']\n",
    "debt_by_family.sort_values(by='ratio', ascending=False, inplace=True)\n",
    "print(debt_by_family)"
   ]
  },
  {
   "cell_type": "markdown",
   "metadata": {},
   "source": [
    "### Conclusion"
   ]
  },
  {
   "cell_type": "markdown",
   "metadata": {},
   "source": [
    "<font size = '4'><center>we see widowers are less likely to get into debt, with 6.5% debt rate. on the other hand, unmarried and civil partnerships have 150% greater chance to get in debt</center></font>"
   ]
  },
  {
   "cell_type": "markdown",
   "metadata": {},
   "source": [
    "<div class=\"alert alert-block alert-success\">\n",
    "<b>Reviewer's comment</b> <a class=\"tocSkip\"></a>\n",
    "    \n",
    "Little surprise here. :) \n",
    "</div>"
   ]
  },
  {
   "cell_type": "markdown",
   "metadata": {},
   "source": [
    "- Is there a relation between income level and repaying a loan on time?"
   ]
  },
  {
   "cell_type": "code",
   "execution_count": 28,
   "metadata": {},
   "outputs": [
    {
     "name": "stdout",
     "output_type": "stream",
     "text": [
      "                debt            ratio\n",
      "                 sum  count          \n",
      "total_income_id                      \n",
      "4                  1     11  0.090909\n",
      "2                701   8187  0.085624\n",
      "3                930  11681  0.079616\n",
      "1                109   1574  0.069250\n"
     ]
    }
   ],
   "source": [
    "debt_by_income_id = df.groupby('total_income_id').agg({'debt': ['sum', 'count']})\n",
    "debt_by_income_id['ratio'] = debt_by_income_id['debt']['sum'] / debt_by_income_id['debt']['count']\n",
    "debt_by_income_id.sort_values(by='ratio', ascending=False, inplace=True)\n",
    "print(debt_by_income_id)"
   ]
  },
  {
   "cell_type": "markdown",
   "metadata": {},
   "source": [
    "### Conclusion"
   ]
  },
  {
   "cell_type": "markdown",
   "metadata": {},
   "source": [
    "<font size = '4'><center>its pretty surprising that the people who earn the most actually have the heighest debt rate. they might take much bigger lones than others, and therefore raise the chance of getting into debt. we'll recommend notice the loan details when dealing with high income people. altough its good for us that customers get into debt. especially if theyre rich. and anyway we should notice we only have 11 people who have total_income_id of 4, and only one of them is in debt, so take the data with caution.\n",
    "the lowest earning sector has the lowest debt rate, at 6.9%. \n",
    "</center></font>"
   ]
  },
  {
   "cell_type": "markdown",
   "metadata": {},
   "source": [
    "<div class=\"alert alert-block alert-success\">\n",
    "<b>Reviewer's comment</b> <a class=\"tocSkip\"></a>\n",
    "    \n",
    "Great! Our results are not expected.  :)\n",
    "\n",
    "\n",
    "</div>"
   ]
  },
  {
   "cell_type": "markdown",
   "metadata": {},
   "source": [
    "- How do different loan purposes affect on-time repayment of the loan?"
   ]
  },
  {
   "cell_type": "code",
   "execution_count": 29,
   "metadata": {},
   "outputs": [
    {
     "name": "stdout",
     "output_type": "stream",
     "text": [
      "             debt            ratio\n",
      "              sum  count          \n",
      "purpose_type                      \n",
      "car           403   4306  0.093590\n",
      "education     370   4013  0.092200\n",
      "wedding       186   2324  0.080034\n",
      "real estate   782  10810  0.072340\n"
     ]
    }
   ],
   "source": [
    "debt_by_purpose = df.groupby('purpose_type').agg({'debt':['sum', 'count']})\n",
    "debt_by_purpose['ratio'] = debt_by_purpose['debt']['sum'] / debt_by_purpose['debt']['count']\n",
    "debt_by_purpose.sort_values(by='ratio', ascending=False, inplace=True)\n",
    "print(debt_by_purpose)"
   ]
  },
  {
   "cell_type": "markdown",
   "metadata": {},
   "source": [
    "### Conclusion"
   ]
  },
  {
   "cell_type": "markdown",
   "metadata": {},
   "source": [
    "<font size = '4'><center>real-estate with the best debt rate at 7.2%, and car and education related\n",
    "loans with 130% bigger chance of getting in debt, with around 9.3% debt rate for each\n",
    "</center></font>"
   ]
  },
  {
   "cell_type": "markdown",
   "metadata": {},
   "source": [
    "<div class=\"alert alert-block alert-success\">\n",
    "<b>Reviewer's comment</b> <a class=\"tocSkip\"></a>\n",
    "    \n",
    "Yes, you are right about housing loans. They have more detailed checks. Perhaps, it help to avoid debts. :)\n",
    "</div>"
   ]
  },
  {
   "cell_type": "markdown",
   "metadata": {},
   "source": [
    "## General conclusion"
   ]
  },
  {
   "cell_type": "markdown",
   "metadata": {},
   "source": [
    "<font size = '4'><center>the ideal lone taker is a widow/er loner with 5 or 0 kids (also 3 childs is ok), thats not earning way too much (actually, not at all much at less than half the mean income), and needs the lone for real estate related issues</center></font>\n",
    "<div class=\"alert alert-block alert-info\">\n",
    "<b>the ideal loner has around 2/3 chance to get in debt compared to the average customer</b> <a class=\"tocSkip\"></a>\n",
    "</div>"
   ]
  },
  {
   "cell_type": "markdown",
   "metadata": {},
   "source": [
    "<div class=\"alert alert-block alert-warning\">\n",
    "<b>Reviewer's comment</b> <a class=\"tocSkip\"></a>\n",
    "    \n",
    "In the conclusion should describe whole project here. We knew intresting information. It is very good to write details at the end. :) \n",
    "</div>\n",
    "\n",
    "<div class=\"alert alert-block alert-success\">\n",
    "<b>Reviewer's comment. V.2.</b> <a class=\"tocSkip\"></a>\n",
    "    \n",
    "Thank you! :) </div>"
   ]
  },
  {
   "cell_type": "markdown",
   "metadata": {},
   "source": [
    "## Project Readiness Checklist\n",
    "\n",
    "Put 'x' in the completed points. Then press Shift + Enter."
   ]
  },
  {
   "cell_type": "markdown",
   "metadata": {},
   "source": [
    "- [x]  file open;\n",
    "- [ ]  file examined;\n",
    "- [ ]  missing values defined;\n",
    "- [ ]  missing values are filled;\n",
    "- [ ]  an explanation of which missing value types were detected;\n",
    "- [ ]  explanation for the possible causes of missing values;\n",
    "- [ ]  an explanation of how the blanks are filled;\n",
    "- [ ]  replaced the real data type with an integer;\n",
    "- [ ]  an explanation of which method is used to change the data type and why;\n",
    "- [ ]  duplicates deleted;\n",
    "- [ ]  an explanation of which method is used to find and remove duplicates;\n",
    "- [ ]  description of the possible reasons for the appearance of duplicates in the data;\n",
    "- [ ]  data is categorized;\n",
    "- [ ]  an explanation of the principle of data categorization;\n",
    "- [ ]  an answer to the question \"Is there a relation between having kids and repaying a loan on time?\";\n",
    "- [ ]  an answer to the question \" Is there a relation between marital status and repaying a loan on time?\";\n",
    "- [ ]   an answer to the question \" Is there a relation between income level and repaying a loan on time?\";\n",
    "- [ ]  an answer to the question \" How do different loan purposes affect on-time repayment of the loan?\"\n",
    "- [ ]  conclusions are present on each stage;\n",
    "- [ ]  a general conclusion is made."
   ]
  }
 ],
 "metadata": {
  "ExecuteTimeLog": [
   {
    "duration": 2396,
    "start_time": "2021-10-13T12:44:23.976Z"
   },
   {
    "duration": 560,
    "start_time": "2021-10-13T12:45:04.572Z"
   },
   {
    "duration": 573,
    "start_time": "2021-10-13T12:45:14.096Z"
   },
   {
    "duration": 79,
    "start_time": "2021-10-13T12:45:38.339Z"
   },
   {
    "duration": 794,
    "start_time": "2021-10-15T04:57:58.079Z"
   },
   {
    "duration": 283,
    "start_time": "2021-10-15T04:58:58.930Z"
   },
   {
    "duration": 6,
    "start_time": "2021-10-15T05:24:39.509Z"
   },
   {
    "duration": 85,
    "start_time": "2021-10-15T05:33:04.113Z"
   },
   {
    "duration": 173,
    "start_time": "2021-10-15T05:34:26.019Z"
   },
   {
    "duration": 5,
    "start_time": "2021-10-15T05:34:26.194Z"
   },
   {
    "duration": 7,
    "start_time": "2021-10-15T05:37:19.500Z"
   },
   {
    "duration": 80,
    "start_time": "2021-10-15T05:44:34.660Z"
   },
   {
    "duration": 7,
    "start_time": "2021-10-15T05:44:42.645Z"
   },
   {
    "duration": 8,
    "start_time": "2021-10-15T05:46:14.788Z"
   },
   {
    "duration": 8,
    "start_time": "2021-10-15T05:46:33.093Z"
   },
   {
    "duration": 7,
    "start_time": "2021-10-15T05:47:41.011Z"
   },
   {
    "duration": 4,
    "start_time": "2021-10-15T05:47:54.641Z"
   },
   {
    "duration": 5,
    "start_time": "2021-10-15T05:55:38.005Z"
   },
   {
    "duration": 10,
    "start_time": "2021-10-15T06:06:17.598Z"
   },
   {
    "duration": 6,
    "start_time": "2021-10-15T06:15:57.498Z"
   },
   {
    "duration": 7,
    "start_time": "2021-10-15T06:23:20.090Z"
   },
   {
    "duration": 6,
    "start_time": "2021-10-15T06:35:30.011Z"
   },
   {
    "duration": 7,
    "start_time": "2021-10-15T06:45:06.828Z"
   },
   {
    "duration": 6,
    "start_time": "2021-10-15T06:46:00.451Z"
   },
   {
    "duration": 93,
    "start_time": "2021-10-15T06:48:16.003Z"
   },
   {
    "duration": 85,
    "start_time": "2021-10-15T06:48:33.688Z"
   },
   {
    "duration": 94,
    "start_time": "2021-10-15T06:49:18.500Z"
   },
   {
    "duration": 136,
    "start_time": "2021-10-15T06:50:11.187Z"
   },
   {
    "duration": 83,
    "start_time": "2021-10-15T06:50:18.121Z"
   },
   {
    "duration": 17,
    "start_time": "2021-10-15T06:51:42.039Z"
   },
   {
    "duration": 16,
    "start_time": "2021-10-15T06:52:16.533Z"
   },
   {
    "duration": 328,
    "start_time": "2021-10-15T06:57:35.201Z"
   },
   {
    "duration": 7,
    "start_time": "2021-10-15T06:59:01.068Z"
   },
   {
    "duration": 5,
    "start_time": "2021-10-15T06:59:59.970Z"
   },
   {
    "duration": 2,
    "start_time": "2021-10-15T07:00:32.551Z"
   },
   {
    "duration": 6,
    "start_time": "2021-10-15T07:00:44.033Z"
   },
   {
    "duration": 6,
    "start_time": "2021-10-15T07:00:55.085Z"
   },
   {
    "duration": 86,
    "start_time": "2021-10-15T07:02:04.657Z"
   },
   {
    "duration": 7,
    "start_time": "2021-10-15T07:02:34.888Z"
   },
   {
    "duration": 83,
    "start_time": "2021-10-15T07:06:10.946Z"
   },
   {
    "duration": 249,
    "start_time": "2021-10-15T07:06:26.719Z"
   },
   {
    "duration": 5,
    "start_time": "2021-10-15T07:06:41.709Z"
   },
   {
    "duration": 13,
    "start_time": "2021-10-15T07:06:54.897Z"
   },
   {
    "duration": 3,
    "start_time": "2021-10-15T07:07:32.719Z"
   },
   {
    "duration": 4,
    "start_time": "2021-10-15T07:08:07.190Z"
   },
   {
    "duration": 127,
    "start_time": "2021-10-15T09:14:49.107Z"
   },
   {
    "duration": 6,
    "start_time": "2021-10-15T09:18:01.028Z"
   },
   {
    "duration": 5,
    "start_time": "2021-10-15T09:19:01.124Z"
   },
   {
    "duration": 18,
    "start_time": "2021-10-15T09:20:47.390Z"
   },
   {
    "duration": 24,
    "start_time": "2021-10-15T09:33:29.789Z"
   },
   {
    "duration": 24,
    "start_time": "2021-10-15T09:35:07.308Z"
   },
   {
    "duration": 3,
    "start_time": "2021-10-15T09:43:18.041Z"
   },
   {
    "duration": 6,
    "start_time": "2021-10-15T10:06:24.823Z"
   },
   {
    "duration": 13,
    "start_time": "2021-10-15T10:09:58.682Z"
   },
   {
    "duration": 8,
    "start_time": "2021-10-15T10:14:40.583Z"
   },
   {
    "duration": 8,
    "start_time": "2021-10-15T10:19:19.665Z"
   },
   {
    "duration": 8,
    "start_time": "2021-10-15T10:21:04.875Z"
   },
   {
    "duration": 8,
    "start_time": "2021-10-15T10:27:29.011Z"
   },
   {
    "duration": 205,
    "start_time": "2021-10-15T10:28:11.008Z"
   },
   {
    "duration": 6,
    "start_time": "2021-10-15T10:28:11.215Z"
   },
   {
    "duration": 30,
    "start_time": "2021-10-15T10:28:11.223Z"
   },
   {
    "duration": 8,
    "start_time": "2021-10-15T10:28:11.256Z"
   },
   {
    "duration": 7,
    "start_time": "2021-10-15T10:28:11.265Z"
   },
   {
    "duration": 17,
    "start_time": "2021-10-15T10:28:11.273Z"
   },
   {
    "duration": 21,
    "start_time": "2021-10-15T10:28:11.292Z"
   },
   {
    "duration": 10,
    "start_time": "2021-10-15T10:28:11.316Z"
   },
   {
    "duration": 12,
    "start_time": "2021-10-15T10:28:11.328Z"
   },
   {
    "duration": 30,
    "start_time": "2021-10-15T10:28:11.342Z"
   },
   {
    "duration": 11,
    "start_time": "2021-10-15T10:28:11.374Z"
   },
   {
    "duration": 18,
    "start_time": "2021-10-15T10:28:11.387Z"
   },
   {
    "duration": 21,
    "start_time": "2021-10-15T10:28:11.407Z"
   },
   {
    "duration": 13,
    "start_time": "2021-10-15T10:28:11.429Z"
   },
   {
    "duration": 27,
    "start_time": "2021-10-15T10:28:11.443Z"
   },
   {
    "duration": 8,
    "start_time": "2021-10-15T10:28:11.472Z"
   },
   {
    "duration": 21,
    "start_time": "2021-10-15T10:28:11.482Z"
   },
   {
    "duration": 25,
    "start_time": "2021-10-15T10:28:11.505Z"
   },
   {
    "duration": 32,
    "start_time": "2021-10-15T10:28:11.532Z"
   },
   {
    "duration": 5,
    "start_time": "2021-10-15T10:28:11.566Z"
   },
   {
    "duration": 19,
    "start_time": "2021-10-15T10:28:11.573Z"
   },
   {
    "duration": 8,
    "start_time": "2021-10-15T10:28:11.595Z"
   },
   {
    "duration": 21,
    "start_time": "2021-10-15T10:28:40.178Z"
   },
   {
    "duration": 19,
    "start_time": "2021-10-15T10:32:45.367Z"
   },
   {
    "duration": 6,
    "start_time": "2021-10-15T10:32:57.340Z"
   },
   {
    "duration": 145,
    "start_time": "2021-10-15T10:33:05.281Z"
   },
   {
    "duration": 7,
    "start_time": "2021-10-15T10:33:05.428Z"
   },
   {
    "duration": 9,
    "start_time": "2021-10-15T10:33:05.438Z"
   },
   {
    "duration": 21,
    "start_time": "2021-10-15T10:33:05.450Z"
   },
   {
    "duration": 4,
    "start_time": "2021-10-15T10:33:05.473Z"
   },
   {
    "duration": 7,
    "start_time": "2021-10-15T10:33:05.479Z"
   },
   {
    "duration": 13,
    "start_time": "2021-10-15T10:33:05.488Z"
   },
   {
    "duration": 6,
    "start_time": "2021-10-15T10:33:05.504Z"
   },
   {
    "duration": 9,
    "start_time": "2021-10-15T10:33:05.512Z"
   },
   {
    "duration": 55,
    "start_time": "2021-10-15T10:33:05.523Z"
   },
   {
    "duration": 9,
    "start_time": "2021-10-15T10:33:05.580Z"
   },
   {
    "duration": 13,
    "start_time": "2021-10-15T10:33:05.590Z"
   },
   {
    "duration": 7,
    "start_time": "2021-10-15T10:33:05.605Z"
   },
   {
    "duration": 12,
    "start_time": "2021-10-15T10:33:05.614Z"
   },
   {
    "duration": 36,
    "start_time": "2021-10-15T10:33:05.627Z"
   },
   {
    "duration": 19,
    "start_time": "2021-10-15T10:33:05.665Z"
   },
   {
    "duration": 15,
    "start_time": "2021-10-15T10:33:05.686Z"
   },
   {
    "duration": 22,
    "start_time": "2021-10-15T10:33:05.703Z"
   },
   {
    "duration": 45,
    "start_time": "2021-10-15T10:33:05.726Z"
   },
   {
    "duration": 5,
    "start_time": "2021-10-15T10:33:05.773Z"
   },
   {
    "duration": 7,
    "start_time": "2021-10-15T10:33:05.780Z"
   },
   {
    "duration": 7,
    "start_time": "2021-10-15T10:33:05.789Z"
   },
   {
    "duration": 253,
    "start_time": "2021-10-15T11:19:47.491Z"
   },
   {
    "duration": 8,
    "start_time": "2021-10-15T11:19:47.746Z"
   },
   {
    "duration": 8,
    "start_time": "2021-10-15T11:19:47.757Z"
   },
   {
    "duration": 7,
    "start_time": "2021-10-15T11:19:47.768Z"
   },
   {
    "duration": 4,
    "start_time": "2021-10-15T11:19:47.777Z"
   },
   {
    "duration": 7,
    "start_time": "2021-10-15T11:19:47.782Z"
   },
   {
    "duration": 9,
    "start_time": "2021-10-15T11:19:47.791Z"
   },
   {
    "duration": 5,
    "start_time": "2021-10-15T11:19:47.803Z"
   },
   {
    "duration": 11,
    "start_time": "2021-10-15T11:19:47.810Z"
   },
   {
    "duration": 60,
    "start_time": "2021-10-15T11:19:47.822Z"
   },
   {
    "duration": 8,
    "start_time": "2021-10-15T11:19:47.884Z"
   },
   {
    "duration": 11,
    "start_time": "2021-10-15T11:19:47.894Z"
   },
   {
    "duration": 9,
    "start_time": "2021-10-15T11:19:47.906Z"
   },
   {
    "duration": 9,
    "start_time": "2021-10-15T11:19:47.916Z"
   },
   {
    "duration": 37,
    "start_time": "2021-10-15T11:19:47.927Z"
   },
   {
    "duration": 19,
    "start_time": "2021-10-15T11:19:47.966Z"
   },
   {
    "duration": 15,
    "start_time": "2021-10-15T11:19:47.986Z"
   },
   {
    "duration": 25,
    "start_time": "2021-10-15T11:19:48.003Z"
   },
   {
    "duration": 48,
    "start_time": "2021-10-15T11:19:48.030Z"
   },
   {
    "duration": 6,
    "start_time": "2021-10-15T11:19:48.081Z"
   },
   {
    "duration": 10,
    "start_time": "2021-10-15T11:19:48.089Z"
   },
   {
    "duration": 7,
    "start_time": "2021-10-15T11:19:48.102Z"
   },
   {
    "duration": 111,
    "start_time": "2021-10-15T11:19:48.113Z"
   },
   {
    "duration": 261,
    "start_time": "2021-10-15T11:20:20.081Z"
   },
   {
    "duration": 19,
    "start_time": "2021-10-15T11:20:27.182Z"
   },
   {
    "duration": 18,
    "start_time": "2021-10-15T11:20:33.516Z"
   },
   {
    "duration": 160,
    "start_time": "2021-10-15T11:20:48.234Z"
   },
   {
    "duration": 6,
    "start_time": "2021-10-15T11:20:48.397Z"
   },
   {
    "duration": 9,
    "start_time": "2021-10-15T11:20:48.405Z"
   },
   {
    "duration": 6,
    "start_time": "2021-10-15T11:20:48.417Z"
   },
   {
    "duration": 4,
    "start_time": "2021-10-15T11:20:48.424Z"
   },
   {
    "duration": 35,
    "start_time": "2021-10-15T11:20:48.430Z"
   },
   {
    "duration": 9,
    "start_time": "2021-10-15T11:20:48.467Z"
   },
   {
    "duration": 6,
    "start_time": "2021-10-15T11:20:48.479Z"
   },
   {
    "duration": 6,
    "start_time": "2021-10-15T11:20:48.487Z"
   },
   {
    "duration": 24,
    "start_time": "2021-10-15T11:20:48.495Z"
   },
   {
    "duration": 6,
    "start_time": "2021-10-15T11:20:48.521Z"
   },
   {
    "duration": 40,
    "start_time": "2021-10-15T11:20:48.528Z"
   },
   {
    "duration": 3,
    "start_time": "2021-10-15T11:20:48.570Z"
   },
   {
    "duration": 7,
    "start_time": "2021-10-15T11:20:48.574Z"
   },
   {
    "duration": 22,
    "start_time": "2021-10-15T11:20:48.582Z"
   },
   {
    "duration": 28,
    "start_time": "2021-10-15T11:20:48.606Z"
   },
   {
    "duration": 29,
    "start_time": "2021-10-15T11:20:48.636Z"
   },
   {
    "duration": 26,
    "start_time": "2021-10-15T11:20:48.668Z"
   },
   {
    "duration": 23,
    "start_time": "2021-10-15T11:20:48.696Z"
   },
   {
    "duration": 5,
    "start_time": "2021-10-15T11:20:48.721Z"
   },
   {
    "duration": 37,
    "start_time": "2021-10-15T11:20:48.728Z"
   },
   {
    "duration": 8,
    "start_time": "2021-10-15T11:20:48.767Z"
   },
   {
    "duration": 82,
    "start_time": "2021-10-15T11:20:48.778Z"
   },
   {
    "duration": 161,
    "start_time": "2021-10-15T11:22:05.034Z"
   },
   {
    "duration": 7,
    "start_time": "2021-10-15T11:22:05.197Z"
   },
   {
    "duration": 9,
    "start_time": "2021-10-15T11:22:05.207Z"
   },
   {
    "duration": 7,
    "start_time": "2021-10-15T11:22:05.219Z"
   },
   {
    "duration": 3,
    "start_time": "2021-10-15T11:22:05.228Z"
   },
   {
    "duration": 30,
    "start_time": "2021-10-15T11:22:05.233Z"
   },
   {
    "duration": 12,
    "start_time": "2021-10-15T11:22:05.265Z"
   },
   {
    "duration": 5,
    "start_time": "2021-10-15T11:22:05.280Z"
   },
   {
    "duration": 10,
    "start_time": "2021-10-15T11:22:05.287Z"
   },
   {
    "duration": 35,
    "start_time": "2021-10-15T11:22:05.299Z"
   },
   {
    "duration": 28,
    "start_time": "2021-10-15T11:22:05.336Z"
   },
   {
    "duration": 8,
    "start_time": "2021-10-15T11:22:05.366Z"
   },
   {
    "duration": 9,
    "start_time": "2021-10-15T11:22:05.376Z"
   },
   {
    "duration": 12,
    "start_time": "2021-10-15T11:22:05.387Z"
   },
   {
    "duration": 21,
    "start_time": "2021-10-15T11:22:05.401Z"
   },
   {
    "duration": 41,
    "start_time": "2021-10-15T11:22:05.424Z"
   },
   {
    "duration": 15,
    "start_time": "2021-10-15T11:22:05.467Z"
   },
   {
    "duration": 26,
    "start_time": "2021-10-15T11:22:05.484Z"
   },
   {
    "duration": 61,
    "start_time": "2021-10-15T11:22:05.512Z"
   },
   {
    "duration": 5,
    "start_time": "2021-10-15T11:22:05.574Z"
   },
   {
    "duration": 7,
    "start_time": "2021-10-15T11:22:05.580Z"
   },
   {
    "duration": 6,
    "start_time": "2021-10-15T11:22:05.588Z"
   },
   {
    "duration": 88,
    "start_time": "2021-10-15T11:22:05.598Z"
   },
   {
    "duration": 298,
    "start_time": "2021-10-15T11:22:52.166Z"
   },
   {
    "duration": 8,
    "start_time": "2021-10-15T11:22:52.467Z"
   },
   {
    "duration": 7,
    "start_time": "2021-10-15T11:22:52.479Z"
   },
   {
    "duration": 7,
    "start_time": "2021-10-15T11:22:52.488Z"
   },
   {
    "duration": 5,
    "start_time": "2021-10-15T11:22:52.497Z"
   },
   {
    "duration": 8,
    "start_time": "2021-10-15T11:22:52.504Z"
   },
   {
    "duration": 10,
    "start_time": "2021-10-15T11:22:52.514Z"
   },
   {
    "duration": 42,
    "start_time": "2021-10-15T11:22:52.526Z"
   },
   {
    "duration": 6,
    "start_time": "2021-10-15T11:22:52.571Z"
   },
   {
    "duration": 18,
    "start_time": "2021-10-15T11:22:52.579Z"
   },
   {
    "duration": 9,
    "start_time": "2021-10-15T11:22:52.599Z"
   },
   {
    "duration": 18,
    "start_time": "2021-10-15T11:22:52.610Z"
   },
   {
    "duration": 33,
    "start_time": "2021-10-15T11:22:52.630Z"
   },
   {
    "duration": 6,
    "start_time": "2021-10-15T11:22:52.665Z"
   },
   {
    "duration": 24,
    "start_time": "2021-10-15T11:22:52.673Z"
   },
   {
    "duration": 25,
    "start_time": "2021-10-15T11:22:52.699Z"
   },
   {
    "duration": 14,
    "start_time": "2021-10-15T11:22:52.725Z"
   },
   {
    "duration": 31,
    "start_time": "2021-10-15T11:22:52.764Z"
   },
   {
    "duration": 23,
    "start_time": "2021-10-15T11:22:52.797Z"
   },
   {
    "duration": 6,
    "start_time": "2021-10-15T11:22:52.822Z"
   },
   {
    "duration": 51,
    "start_time": "2021-10-15T11:22:52.830Z"
   },
   {
    "duration": 8,
    "start_time": "2021-10-15T11:22:52.883Z"
   },
   {
    "duration": 91,
    "start_time": "2021-10-15T11:22:52.894Z"
   },
   {
    "duration": 162,
    "start_time": "2021-10-15T11:23:25.753Z"
   },
   {
    "duration": 5,
    "start_time": "2021-10-15T11:23:25.918Z"
   },
   {
    "duration": 8,
    "start_time": "2021-10-15T11:23:25.925Z"
   },
   {
    "duration": 7,
    "start_time": "2021-10-15T11:23:25.935Z"
   },
   {
    "duration": 6,
    "start_time": "2021-10-15T11:23:25.964Z"
   },
   {
    "duration": 7,
    "start_time": "2021-10-15T11:23:25.972Z"
   },
   {
    "duration": 10,
    "start_time": "2021-10-15T11:23:25.980Z"
   },
   {
    "duration": 6,
    "start_time": "2021-10-15T11:23:25.994Z"
   },
   {
    "duration": 7,
    "start_time": "2021-10-15T11:23:26.003Z"
   },
   {
    "duration": 71,
    "start_time": "2021-10-15T11:23:26.013Z"
   },
   {
    "duration": 7,
    "start_time": "2021-10-15T11:23:26.086Z"
   },
   {
    "duration": 14,
    "start_time": "2021-10-15T11:23:26.095Z"
   },
   {
    "duration": 7,
    "start_time": "2021-10-15T11:23:26.111Z"
   },
   {
    "duration": 13,
    "start_time": "2021-10-15T11:23:26.120Z"
   },
   {
    "duration": 31,
    "start_time": "2021-10-15T11:23:26.134Z"
   },
   {
    "duration": 23,
    "start_time": "2021-10-15T11:23:26.167Z"
   },
   {
    "duration": 15,
    "start_time": "2021-10-15T11:23:26.192Z"
   },
   {
    "duration": 25,
    "start_time": "2021-10-15T11:23:26.209Z"
   },
   {
    "duration": 47,
    "start_time": "2021-10-15T11:23:26.236Z"
   },
   {
    "duration": 7,
    "start_time": "2021-10-15T11:23:26.287Z"
   },
   {
    "duration": 7,
    "start_time": "2021-10-15T11:23:26.296Z"
   },
   {
    "duration": 8,
    "start_time": "2021-10-15T11:23:26.305Z"
   },
   {
    "duration": 84,
    "start_time": "2021-10-15T11:23:26.316Z"
   },
   {
    "duration": 235,
    "start_time": "2021-10-15T11:23:49.810Z"
   },
   {
    "duration": 7,
    "start_time": "2021-10-15T11:23:50.046Z"
   },
   {
    "duration": 9,
    "start_time": "2021-10-15T11:23:50.055Z"
   },
   {
    "duration": 9,
    "start_time": "2021-10-15T11:23:50.067Z"
   },
   {
    "duration": 11,
    "start_time": "2021-10-15T11:23:50.078Z"
   },
   {
    "duration": 11,
    "start_time": "2021-10-15T11:23:50.091Z"
   },
   {
    "duration": 12,
    "start_time": "2021-10-15T11:23:50.105Z"
   },
   {
    "duration": 6,
    "start_time": "2021-10-15T11:23:50.120Z"
   },
   {
    "duration": 8,
    "start_time": "2021-10-15T11:23:50.128Z"
   },
   {
    "duration": 23,
    "start_time": "2021-10-15T11:23:50.163Z"
   },
   {
    "duration": 9,
    "start_time": "2021-10-15T11:23:50.188Z"
   },
   {
    "duration": 17,
    "start_time": "2021-10-15T11:23:50.199Z"
   },
   {
    "duration": 12,
    "start_time": "2021-10-15T11:23:50.218Z"
   },
   {
    "duration": 12,
    "start_time": "2021-10-15T11:23:50.232Z"
   },
   {
    "duration": 41,
    "start_time": "2021-10-15T11:23:50.246Z"
   },
   {
    "duration": 38,
    "start_time": "2021-10-15T11:23:50.289Z"
   },
   {
    "duration": 34,
    "start_time": "2021-10-15T11:23:50.329Z"
   },
   {
    "duration": 26,
    "start_time": "2021-10-15T11:23:50.365Z"
   },
   {
    "duration": 27,
    "start_time": "2021-10-15T11:23:50.392Z"
   },
   {
    "duration": 11,
    "start_time": "2021-10-15T11:23:50.422Z"
   },
   {
    "duration": 33,
    "start_time": "2021-10-15T11:23:50.435Z"
   },
   {
    "duration": 9,
    "start_time": "2021-10-15T11:23:50.471Z"
   },
   {
    "duration": 170,
    "start_time": "2021-10-15T11:24:21.196Z"
   },
   {
    "duration": 8,
    "start_time": "2021-10-15T11:24:21.368Z"
   },
   {
    "duration": 7,
    "start_time": "2021-10-15T11:24:21.378Z"
   },
   {
    "duration": 9,
    "start_time": "2021-10-15T11:24:21.387Z"
   },
   {
    "duration": 7,
    "start_time": "2021-10-15T11:24:21.398Z"
   },
   {
    "duration": 8,
    "start_time": "2021-10-15T11:24:21.407Z"
   },
   {
    "duration": 10,
    "start_time": "2021-10-15T11:24:21.416Z"
   },
   {
    "duration": 37,
    "start_time": "2021-10-15T11:24:21.429Z"
   },
   {
    "duration": 9,
    "start_time": "2021-10-15T11:24:21.468Z"
   },
   {
    "duration": 21,
    "start_time": "2021-10-15T11:24:21.479Z"
   },
   {
    "duration": 9,
    "start_time": "2021-10-15T11:24:21.502Z"
   },
   {
    "duration": 14,
    "start_time": "2021-10-15T11:24:21.512Z"
   },
   {
    "duration": 8,
    "start_time": "2021-10-15T11:24:21.528Z"
   },
   {
    "duration": 29,
    "start_time": "2021-10-15T11:24:21.538Z"
   },
   {
    "duration": 23,
    "start_time": "2021-10-15T11:24:21.569Z"
   },
   {
    "duration": 25,
    "start_time": "2021-10-15T11:24:21.594Z"
   },
   {
    "duration": 15,
    "start_time": "2021-10-15T11:24:21.621Z"
   },
   {
    "duration": 46,
    "start_time": "2021-10-15T11:24:21.638Z"
   },
   {
    "duration": 21,
    "start_time": "2021-10-15T11:24:21.685Z"
   },
   {
    "duration": 7,
    "start_time": "2021-10-15T11:24:21.707Z"
   },
   {
    "duration": 8,
    "start_time": "2021-10-15T11:24:21.715Z"
   },
   {
    "duration": 43,
    "start_time": "2021-10-15T11:24:21.724Z"
   },
   {
    "duration": 166,
    "start_time": "2021-10-15T11:25:43.719Z"
   },
   {
    "duration": 7,
    "start_time": "2021-10-15T11:25:43.887Z"
   },
   {
    "duration": 18,
    "start_time": "2021-10-15T11:25:43.896Z"
   },
   {
    "duration": 10,
    "start_time": "2021-10-15T11:25:43.916Z"
   },
   {
    "duration": 12,
    "start_time": "2021-10-15T11:25:43.927Z"
   },
   {
    "duration": 15,
    "start_time": "2021-10-15T11:25:43.941Z"
   },
   {
    "duration": 16,
    "start_time": "2021-10-15T11:25:43.964Z"
   },
   {
    "duration": 12,
    "start_time": "2021-10-15T11:25:43.983Z"
   },
   {
    "duration": 14,
    "start_time": "2021-10-15T11:25:43.997Z"
   },
   {
    "duration": 28,
    "start_time": "2021-10-15T11:25:44.013Z"
   },
   {
    "duration": 22,
    "start_time": "2021-10-15T11:25:44.043Z"
   },
   {
    "duration": 17,
    "start_time": "2021-10-15T11:25:44.067Z"
   },
   {
    "duration": 22,
    "start_time": "2021-10-15T11:25:44.086Z"
   },
   {
    "duration": 18,
    "start_time": "2021-10-15T11:25:44.109Z"
   },
   {
    "duration": 37,
    "start_time": "2021-10-15T11:25:44.129Z"
   },
   {
    "duration": 43,
    "start_time": "2021-10-15T11:25:44.168Z"
   },
   {
    "duration": 15,
    "start_time": "2021-10-15T11:25:44.213Z"
   },
   {
    "duration": 27,
    "start_time": "2021-10-15T11:25:44.230Z"
   },
   {
    "duration": 22,
    "start_time": "2021-10-15T11:25:44.259Z"
   },
   {
    "duration": 17,
    "start_time": "2021-10-15T11:25:44.283Z"
   },
   {
    "duration": 9,
    "start_time": "2021-10-15T11:25:44.302Z"
   },
   {
    "duration": 9,
    "start_time": "2021-10-15T11:25:44.313Z"
   },
   {
    "duration": 12,
    "start_time": "2021-10-15T12:20:10.931Z"
   },
   {
    "duration": 30,
    "start_time": "2021-10-15T12:20:21.351Z"
   },
   {
    "duration": 15,
    "start_time": "2021-10-15T12:34:36.017Z"
   },
   {
    "duration": 101,
    "start_time": "2021-10-15T12:36:02.852Z"
   },
   {
    "duration": 13,
    "start_time": "2021-10-15T12:39:01.176Z"
   },
   {
    "duration": 15,
    "start_time": "2021-10-15T12:40:02.587Z"
   },
   {
    "duration": 15,
    "start_time": "2021-10-15T12:51:35.646Z"
   },
   {
    "duration": 14,
    "start_time": "2021-10-15T12:55:11.392Z"
   },
   {
    "duration": 16,
    "start_time": "2021-10-15T13:01:14.764Z"
   },
   {
    "duration": 935,
    "start_time": "2021-10-15T13:08:22.233Z"
   },
   {
    "duration": 5,
    "start_time": "2021-10-15T13:08:23.170Z"
   },
   {
    "duration": 7,
    "start_time": "2021-10-15T13:08:23.177Z"
   },
   {
    "duration": 6,
    "start_time": "2021-10-15T13:08:23.186Z"
   },
   {
    "duration": 5,
    "start_time": "2021-10-15T13:08:23.194Z"
   },
   {
    "duration": 10,
    "start_time": "2021-10-15T13:08:23.200Z"
   },
   {
    "duration": 17,
    "start_time": "2021-10-15T13:08:23.211Z"
   },
   {
    "duration": 33,
    "start_time": "2021-10-15T13:08:23.231Z"
   },
   {
    "duration": 8,
    "start_time": "2021-10-15T13:08:23.266Z"
   },
   {
    "duration": 24,
    "start_time": "2021-10-15T13:08:23.276Z"
   },
   {
    "duration": 6,
    "start_time": "2021-10-15T13:08:23.302Z"
   },
   {
    "duration": 13,
    "start_time": "2021-10-15T13:08:23.310Z"
   },
   {
    "duration": 7,
    "start_time": "2021-10-15T13:08:23.325Z"
   },
   {
    "duration": 11,
    "start_time": "2021-10-15T13:08:23.334Z"
   },
   {
    "duration": 33,
    "start_time": "2021-10-15T13:08:23.347Z"
   },
   {
    "duration": 20,
    "start_time": "2021-10-15T13:08:23.381Z"
   },
   {
    "duration": 14,
    "start_time": "2021-10-15T13:08:23.403Z"
   },
   {
    "duration": 48,
    "start_time": "2021-10-15T13:08:23.419Z"
   },
   {
    "duration": 20,
    "start_time": "2021-10-15T13:08:23.469Z"
   },
   {
    "duration": 7,
    "start_time": "2021-10-15T13:08:23.490Z"
   },
   {
    "duration": 6,
    "start_time": "2021-10-15T13:08:23.499Z"
   },
   {
    "duration": 9,
    "start_time": "2021-10-15T13:08:23.507Z"
   },
   {
    "duration": 45,
    "start_time": "2021-10-15T13:08:23.520Z"
   },
   {
    "duration": 21,
    "start_time": "2021-10-15T13:08:23.567Z"
   },
   {
    "duration": 15,
    "start_time": "2021-10-15T13:08:23.590Z"
   },
   {
    "duration": 15,
    "start_time": "2021-10-15T13:08:23.607Z"
   },
   {
    "duration": 48,
    "start_time": "2021-10-15T13:08:23.624Z"
   },
   {
    "duration": 291,
    "start_time": "2021-10-15T13:08:31.721Z"
   },
   {
    "duration": 6,
    "start_time": "2021-10-15T13:08:32.013Z"
   },
   {
    "duration": 19,
    "start_time": "2021-10-15T13:08:32.021Z"
   },
   {
    "duration": 9,
    "start_time": "2021-10-15T13:08:32.043Z"
   },
   {
    "duration": 30,
    "start_time": "2021-10-15T13:08:32.053Z"
   },
   {
    "duration": 18,
    "start_time": "2021-10-15T13:08:32.085Z"
   },
   {
    "duration": 15,
    "start_time": "2021-10-15T13:08:32.105Z"
   },
   {
    "duration": 24,
    "start_time": "2021-10-15T13:08:32.122Z"
   },
   {
    "duration": 19,
    "start_time": "2021-10-15T13:08:32.149Z"
   },
   {
    "duration": 38,
    "start_time": "2021-10-15T13:08:32.170Z"
   },
   {
    "duration": 21,
    "start_time": "2021-10-15T13:08:32.210Z"
   },
   {
    "duration": 23,
    "start_time": "2021-10-15T13:08:32.233Z"
   },
   {
    "duration": 18,
    "start_time": "2021-10-15T13:08:32.258Z"
   },
   {
    "duration": 20,
    "start_time": "2021-10-15T13:08:32.278Z"
   },
   {
    "duration": 38,
    "start_time": "2021-10-15T13:08:32.300Z"
   },
   {
    "duration": 35,
    "start_time": "2021-10-15T13:08:32.340Z"
   },
   {
    "duration": 26,
    "start_time": "2021-10-15T13:08:32.377Z"
   },
   {
    "duration": 35,
    "start_time": "2021-10-15T13:08:32.405Z"
   },
   {
    "duration": 21,
    "start_time": "2021-10-15T13:08:32.442Z"
   },
   {
    "duration": 31,
    "start_time": "2021-10-15T13:08:32.465Z"
   },
   {
    "duration": 24,
    "start_time": "2021-10-15T13:08:32.498Z"
   },
   {
    "duration": 12,
    "start_time": "2021-10-15T13:08:32.523Z"
   },
   {
    "duration": 25,
    "start_time": "2021-10-15T13:08:32.537Z"
   },
   {
    "duration": 41,
    "start_time": "2021-10-15T13:08:32.564Z"
   },
   {
    "duration": 36,
    "start_time": "2021-10-15T13:08:32.607Z"
   },
   {
    "duration": 14,
    "start_time": "2021-10-15T13:08:32.645Z"
   },
   {
    "duration": 17,
    "start_time": "2021-10-15T13:08:32.662Z"
   },
   {
    "duration": 804,
    "start_time": "2021-10-15T15:56:10.157Z"
   },
   {
    "duration": 6,
    "start_time": "2021-10-15T15:56:10.963Z"
   },
   {
    "duration": 13,
    "start_time": "2021-10-15T15:56:10.970Z"
   },
   {
    "duration": 9,
    "start_time": "2021-10-15T15:56:10.984Z"
   },
   {
    "duration": 10,
    "start_time": "2021-10-15T15:56:10.994Z"
   },
   {
    "duration": 6,
    "start_time": "2021-10-15T15:56:11.005Z"
   },
   {
    "duration": 9,
    "start_time": "2021-10-15T15:56:11.013Z"
   },
   {
    "duration": 22,
    "start_time": "2021-10-15T15:56:11.024Z"
   },
   {
    "duration": 9,
    "start_time": "2021-10-15T15:56:11.048Z"
   },
   {
    "duration": 31,
    "start_time": "2021-10-15T15:56:11.059Z"
   },
   {
    "duration": 12,
    "start_time": "2021-10-15T15:56:11.092Z"
   },
   {
    "duration": 18,
    "start_time": "2021-10-15T15:56:11.106Z"
   },
   {
    "duration": 8,
    "start_time": "2021-10-15T15:56:11.126Z"
   },
   {
    "duration": 6,
    "start_time": "2021-10-15T15:56:11.135Z"
   },
   {
    "duration": 22,
    "start_time": "2021-10-15T15:56:11.143Z"
   },
   {
    "duration": 17,
    "start_time": "2021-10-15T15:56:11.166Z"
   },
   {
    "duration": 12,
    "start_time": "2021-10-15T15:56:11.185Z"
   },
   {
    "duration": 22,
    "start_time": "2021-10-15T15:56:11.198Z"
   },
   {
    "duration": 35,
    "start_time": "2021-10-15T15:56:11.221Z"
   },
   {
    "duration": 7,
    "start_time": "2021-10-15T15:56:11.258Z"
   },
   {
    "duration": 12,
    "start_time": "2021-10-15T15:56:11.266Z"
   },
   {
    "duration": 8,
    "start_time": "2021-10-15T15:56:11.280Z"
   },
   {
    "duration": 16,
    "start_time": "2021-10-15T15:56:11.291Z"
   },
   {
    "duration": 15,
    "start_time": "2021-10-15T15:56:11.308Z"
   },
   {
    "duration": 31,
    "start_time": "2021-10-15T15:56:11.324Z"
   },
   {
    "duration": 14,
    "start_time": "2021-10-15T15:56:11.356Z"
   },
   {
    "duration": 14,
    "start_time": "2021-10-15T15:56:11.371Z"
   }
  ],
  "kernelspec": {
   "display_name": "Python 3 (ipykernel)",
   "language": "python",
   "name": "python3"
  },
  "language_info": {
   "codemirror_mode": {
    "name": "ipython",
    "version": 3
   },
   "file_extension": ".py",
   "mimetype": "text/x-python",
   "name": "python",
   "nbconvert_exporter": "python",
   "pygments_lexer": "ipython3",
   "version": "3.9.5"
  },
  "toc": {
   "base_numbering": 1,
   "nav_menu": {},
   "number_sections": true,
   "sideBar": true,
   "skip_h1_title": true,
   "title_cell": "Table of Contents",
   "title_sidebar": "Contents",
   "toc_cell": false,
   "toc_position": {},
   "toc_section_display": true,
   "toc_window_display": true
  }
 },
 "nbformat": 4,
 "nbformat_minor": 2
}
